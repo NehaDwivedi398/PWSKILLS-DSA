{
 "cells": [
  {
   "cell_type": "code",
   "execution_count": 1,
   "id": "995803ef-bd1e-4cfd-9bfb-2d5709e141d3",
   "metadata": {},
   "outputs": [],
   "source": [
    "#Q1\n",
    "a=\"neha\"\n",
    "b=[10,\"neha\",8,9,10,\"a\"]\n",
    "c=9.82\n",
    "d=(14,5,\"neha\",1,6)"
   ]
  },
  {
   "cell_type": "code",
   "execution_count": 2,
   "id": "723a83b4-8123-4651-90e3-cf6e1f2e5c87",
   "metadata": {},
   "outputs": [
    {
     "data": {
      "text/plain": [
       "str"
      ]
     },
     "execution_count": 2,
     "metadata": {},
     "output_type": "execute_result"
    }
   ],
   "source": [
    "var1=''\n",
    "type(var1)"
   ]
  },
  {
   "cell_type": "code",
   "execution_count": 3,
   "id": "a08ece22-27fa-4e06-ab18-b5b8ee28f529",
   "metadata": {},
   "outputs": [
    {
     "data": {
      "text/plain": [
       "str"
      ]
     },
     "execution_count": 3,
     "metadata": {},
     "output_type": "execute_result"
    }
   ],
   "source": [
    "var2='[DS,ML,PYTHON]'\n",
    "type(var2)"
   ]
  },
  {
   "cell_type": "code",
   "execution_count": 4,
   "id": "741601a1-0466-495a-993d-724e327b383c",
   "metadata": {},
   "outputs": [
    {
     "data": {
      "text/plain": [
       "list"
      ]
     },
     "execution_count": 4,
     "metadata": {},
     "output_type": "execute_result"
    }
   ],
   "source": [
    "var3=['DS','ML','PYTHON']\n",
    "type(var3)"
   ]
  },
  {
   "cell_type": "code",
   "execution_count": 5,
   "id": "6baa5ac2-be8b-4dda-800a-dd2a02dda7c9",
   "metadata": {},
   "outputs": [
    {
     "data": {
      "text/plain": [
       "float"
      ]
     },
     "execution_count": 5,
     "metadata": {},
     "output_type": "execute_result"
    }
   ],
   "source": [
    "var4=1.\n",
    "type(var4)"
   ]
  },
  {
   "cell_type": "code",
   "execution_count": 6,
   "id": "e4afb820-9dee-44c4-9559-3bc0b932407c",
   "metadata": {},
   "outputs": [
    {
     "data": {
      "text/plain": [
       "3.0"
      ]
     },
     "execution_count": 6,
     "metadata": {},
     "output_type": "execute_result"
    }
   ],
   "source": [
    "#Q3\n",
    "#(i)/ is used for division \n",
    "#given in below eg\n",
    "6/2"
   ]
  },
  {
   "cell_type": "code",
   "execution_count": 7,
   "id": "add265cf-c2fe-4274-aba6-b2be61a839df",
   "metadata": {},
   "outputs": [
    {
     "data": {
      "text/plain": [
       "1"
      ]
     },
     "execution_count": 7,
     "metadata": {},
     "output_type": "execute_result"
    }
   ],
   "source": [
    "#Q3\n",
    "#(ii)% is used for modulus to get the value in remainder\n",
    "#given in below eg\n",
    "\n",
    "9%4"
   ]
  },
  {
   "cell_type": "code",
   "execution_count": 8,
   "id": "c4b4e8c7-ff48-43fb-b6ed-bd68e0334b12",
   "metadata": {},
   "outputs": [
    {
     "data": {
      "text/plain": [
       "3"
      ]
     },
     "execution_count": 8,
     "metadata": {},
     "output_type": "execute_result"
    }
   ],
   "source": [
    "#Q3\n",
    "#(iii)// is used  to get quotient value \n",
    "#given in below eg\n",
    "\n",
    "10//3"
   ]
  },
  {
   "cell_type": "code",
   "execution_count": 9,
   "id": "f5f79ff6-19d3-458e-ad13-2d97b67825b5",
   "metadata": {},
   "outputs": [
    {
     "data": {
      "text/plain": [
       "8"
      ]
     },
     "execution_count": 9,
     "metadata": {},
     "output_type": "execute_result"
    }
   ],
   "source": [
    "#Q3\n",
    "#(iv)// is used  as power operator \n",
    "#given in below eg\n",
    "\n",
    "2**3"
   ]
  },
  {
   "cell_type": "code",
   "execution_count": 2,
   "id": "d16e7294-a269-4ebb-9779-10c7fe02f4e5",
   "metadata": {},
   "outputs": [
    {
     "name": "stdout",
     "output_type": "stream",
     "text": [
      "1\n",
      "<class 'int'>\n",
      "a\n",
      "<class 'str'>\n",
      "8\n",
      "<class 'int'>\n",
      "9\n",
      "<class 'int'>\n",
      "5\n",
      "<class 'int'>\n",
      "6.0\n",
      "<class 'float'>\n",
      "7\n",
      "<class 'int'>\n",
      "nn\n",
      "<class 'str'>\n",
      "2.0\n",
      "<class 'float'>\n",
      "10\n",
      "<class 'int'>\n"
     ]
    }
   ],
   "source": [
    "#Q4\n",
    "l=[1,\"a\",8,9,5,6.0,7,\"nn\",2.0,10]\n",
    "i=1\n",
    "for i in l:\n",
    "    print(i)\n",
    "    print(type(i))"
   ]
  },
  {
   "cell_type": "code",
   "execution_count": 8,
   "id": "980b7625-07ed-4b94-a68a-2e9d4b5c9b4e",
   "metadata": {},
   "outputs": [
    {
     "name": "stdin",
     "output_type": "stream",
     "text": [
      "Enter the first number:  95\n",
      "Enter the second number:  2\n"
     ]
    },
    {
     "name": "stdout",
     "output_type": "stream",
     "text": [
      "B does not divide A purely.\n"
     ]
    }
   ],
   "source": [
    "#Q5\n",
    "A = int(input(\"Enter the first number: \"))\n",
    "B = int(input(\"Enter the second number: \"))\n",
    "\n",
    "count = 0 \n",
    "\n",
    "while A % B == 0:\n",
    "    A = A / B\n",
    "    count += 1\n",
    "\n",
    "if count > 0:\n",
    "    print(f\"B divides A : {count} times.\")\n",
    "else:\n",
    "    print(f\"B does not divide A purely.\")"
   ]
  },
  {
   "cell_type": "code",
   "execution_count": 10,
   "id": "ae77bec6-fcc7-408f-81f0-ce7faa4a6e36",
   "metadata": {},
   "outputs": [
    {
     "name": "stdout",
     "output_type": "stream",
     "text": [
      "1 is not divisible by 3\n",
      "2 is not divisible by 3\n",
      "3 is divisible by 3\n",
      "4 is not divisible by 3\n",
      "5 is not divisible by 3\n",
      "6 is divisible by 3\n",
      "7 is not divisible by 3\n",
      "8 is not divisible by 3\n",
      "9 is divisible by 3\n",
      "10 is not divisible by 3\n",
      "11 is not divisible by 3\n",
      "12 is divisible by 3\n",
      "13 is not divisible by 3\n",
      "14 is not divisible by 3\n",
      "15 is divisible by 3\n",
      "16 is not divisible by 3\n",
      "17 is not divisible by 3\n",
      "18 is divisible by 3\n",
      "19 is not divisible by 3\n",
      "20 is not divisible by 3\n",
      "21 is divisible by 3\n",
      "22 is not divisible by 3\n",
      "23 is not divisible by 3\n",
      "24 is divisible by 3\n",
      "25 is not divisible by 3\n"
     ]
    }
   ],
   "source": [
    "l=[1,2,3,4,5,6,7,8,9,10,11,12,13,14,15,16,17,18,19,20,21,22,23,24,25]\n",
    "i=1\n",
    "for i in l:\n",
    "    if i%3==0:\n",
    "        print (f\"{i} is divisible by 3\")\n",
    "    else:\n",
    "        print(f\"{i} is not divisible by 3\")"
   ]
  },
  {
   "cell_type": "code",
   "execution_count": 12,
   "id": "51313bd0-5706-4652-a2b8-c23819025da1",
   "metadata": {},
   "outputs": [],
   "source": [
    "# An immutable object is an object whose value cannot be changed once it is created. \n",
    "#Any operation that appears to modify an immutable object actually creates a new object with the modified value.\n",
    "# Creating a tuple\n",
    "my_tuple = (1, 7,\"H\")\n",
    "\n",
    "\n",
    "# Trying to change the first element of the tuple\n",
    "my_tuple[0] = 8"
   ]
  },
  {
   "cell_type": "code",
   "execution_count": 13,
   "id": "c3fb7cb1-c56b-443b-a8ac-bea4290f43a4",
   "metadata": {},
   "outputs": [
    {
     "name": "stdout",
     "output_type": "stream",
     "text": [
      "[8, 2, 'H']\n"
     ]
    }
   ],
   "source": [
    "#A mutable object, on the other hand, is an object whose value can be changed once it is created. \n",
    "#Examples of mutable data types in Python include lists, dictionaries, and sets.\n",
    "\n",
    "# Creating a list\n",
    "my_list = [1, 2, \"H\"]\n",
    "\n",
    "# Changing the first element of the list\n",
    "my_list[0] = 8\n",
    "\n",
    "print(my_list) "
   ]
  },
  {
   "cell_type": "code",
   "execution_count": 25,
   "id": "cad4fb5a-b8a3-4bbc-ae58-74f69bf2a968",
   "metadata": {},
   "outputs": [
    {
     "name": "stdout",
     "output_type": "stream",
     "text": [
      "[1, 2, 3, 4]\n"
     ]
    }
   ],
   "source": [
    "\n",
    "\n",
    "my_list = [1, 2, 3]\n",
    "\n",
    "new_list = my_list\n",
    "\n",
    "new_list.append(4)\n",
    "\n",
    "print(my_list)\n"
   ]
  },
  {
   "cell_type": "code",
   "execution_count": null,
   "id": "484b96d4-962b-4875-91c4-2760e65cce3f",
   "metadata": {},
   "outputs": [],
   "source": []
  }
 ],
 "metadata": {
  "kernelspec": {
   "display_name": "Python 3 (ipykernel)",
   "language": "python",
   "name": "python3"
  },
  "language_info": {
   "codemirror_mode": {
    "name": "ipython",
    "version": 3
   },
   "file_extension": ".py",
   "mimetype": "text/x-python",
   "name": "python",
   "nbconvert_exporter": "python",
   "pygments_lexer": "ipython3",
   "version": "3.10.8"
  }
 },
 "nbformat": 4,
 "nbformat_minor": 5
}
